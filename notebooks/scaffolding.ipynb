{
 "cells": [
  {
   "cell_type": "markdown",
   "metadata": {},
   "source": [
    "## scaffolding based on high-order contacts\n",
    "\n",
    "Pore-C can capture the high-order contacts, which allow us to use this information to order and orientate the contigs.\n",
    "\n",
    "The allhic optimize used the distance of paired hic mapping between two contigs, inspired of this, we use distance of pore-c fragments to calculate the score of contigs position.\n"
   ]
  },
  {
   "cell_type": "markdown",
   "metadata": {},
   "source": [
    "### Testing\n",
    "We created several pore-c alignments and five contigs to test our methods\n",
    "\n",
    "tig1 -> tig2 -> tig3 -> tig4 -> tig5"
   ]
  },
  {
   "cell_type": "code",
   "execution_count": 33,
   "metadata": {},
   "outputs": [],
   "source": [
    "import random \n",
    "from itertools import product, combinations\n",
    "from functools import reduce\n",
    "\n",
    "import numpy as np\n",
    "import operator \n"
   ]
  },
  {
   "cell_type": "code",
   "execution_count": 49,
   "metadata": {},
   "outputs": [
    {
     "name": "stdout",
     "output_type": "stream",
     "text": [
      "[[ 0. 50. 45.]\n",
      " [ 0.  0.  8.]\n",
      " [ 0.  0.  0.]]\n",
      "[[ 0. 47.]\n",
      " [ 0.  0.]]\n",
      "[[ 0. 50. 47.]\n",
      " [ 0.  0. 10.]\n",
      " [ 0.  0.  0.]]\n",
      "[[ 0. 47.]\n",
      " [ 0.  0.]]\n",
      "[[ 0. 65. 40. 45.]\n",
      " [ 0.  0. 37. 42.]\n",
      " [ 0.  0.  0. 20.]\n",
      " [ 0.  0.  0.  0.]]\n",
      "[[ 0. 37. 42.]\n",
      " [ 0.  0. 20.]\n",
      " [ 0.  0.  0.]]\n",
      "[[ 0. 12. 17.]\n",
      " [ 0.  0. 20.]\n",
      " [ 0.  0.  0.]]\n"
     ]
    }
   ],
   "source": [
    "contig_sizes = {\n",
    "    \"tig1\": 10000,\n",
    "    \"tig2\": 7000,\n",
    "    \"tig3\": 12000,\n",
    "    \"tig4\": 5000,\n",
    "    \"tig5\": 8000,\n",
    "}\n",
    "pore_c_alignments = {\n",
    "    \"read1\": [(\"tig1\", 8000, 9000), (\"tig2\", 1000, 1500), (\"tig3\", 100, 400),],\n",
    "    \"read2\": [(\"tig1\", 7000, 7500), (\"tig2\", 2000, 3000)],\n",
    "    \"read3\": [(\"tig1\", 8000, 9000), (\"tig2\", 1000, 1500), (\"tig2\", 500, 900),],\n",
    "    \"read4\": [(\"tig1\", 8000, 9000), (\"tig3\", 500, 900),],\n",
    "    \"read5\": [(\"tig2\", 5000, 7000), (\"tig2\", 6000, 6500), (\"tig3\", 1000, 2000), (\"tig3\", 2000, 3000)],\n",
    "    \"read6\": [(\"tig2\", 6000, 6500), (\"tig4\", 1000, 2000), (\"tig5\", 2000, 3000)],\n",
    "    \"read7\": [(\"tig4\",1000, 1500), (\"tig5\", 1000, 2000), (\"tig5\", 2000, 3000)],\n",
    "}\n",
    "\n",
    "class Contig:\n",
    "    def __init__(self, contig, bin_count, position=0, orientation=0, ):\n",
    "        self.contig = contig \n",
    "        self.position = position \n",
    "        self.orientation = orientation \n",
    "        self.bin_count = bin_count\n",
    "\n",
    "class Contigs:\n",
    "    def __init__(self, contigs):\n",
    "        self.data = contigs\n",
    "    \n",
    "    def orders(self):\n",
    "        res = [contig.position for contig in self.data]\n",
    "        return res \n",
    "\n",
    "    def score(self):\n",
    "        for contig in self.data:\n",
    "            pass \n",
    "    \n",
    "class Alignments:\n",
    "    def __init__(self, alignments, binsize=100):\n",
    "        self.data = alignments\n",
    "        self.binsize = binsize\n",
    "        self.order = len(alignments)\n",
    "        self.distances = self.calculate_distance()\n",
    "\n",
    "    def calculate_distance(self):\n",
    "        l = list(combinations(range(self.order), 2))\n",
    "        distances = np.zeros(shape=(self.order, self.order))\n",
    "        for i, j in l:\n",
    "            distances[i, j] = (self.data[i][2] + self.data[j][1]) // self.binsize // 2\n",
    "        \n",
    "        return distances \n",
    "    \n",
    "    def get_distance_by_order(self):\n",
    "        pass \n",
    "    \n",
    "    \n",
    "\n",
    "        \n",
    "random.seed(12345)\n",
    "    \n",
    "contigs = []\n",
    "\n",
    "tigs = list(contig_sizes.keys())\n",
    "random.shuffle(tigs)\n",
    "for i, contig in enumerate(tigs):\n",
    "    bin_count = contig_sizes[contig] // 100 \n",
    "    orientation = random.sample([0, 1], 1)\n",
    "    contigs.append(Contig(contig, bin_count, i,  orientation))\n",
    "\n",
    "for read in pore_c_alignments:\n",
    "    alignments = pore_c_alignments[read]\n",
    "    # random.shuffle(alignments)\n",
    "    am =  Alignments(alignments)\n",
    "    print(am.distances)"
   ]
  },
  {
   "cell_type": "code",
   "execution_count": null,
   "metadata": {},
   "outputs": [],
   "source": []
  }
 ],
 "metadata": {
  "kernelspec": {
   "display_name": "base",
   "language": "python",
   "name": "python3"
  },
  "language_info": {
   "codemirror_mode": {
    "name": "ipython",
    "version": 3
   },
   "file_extension": ".py",
   "mimetype": "text/x-python",
   "name": "python",
   "nbconvert_exporter": "python",
   "pygments_lexer": "ipython3",
   "version": "3.8.0"
  }
 },
 "nbformat": 4,
 "nbformat_minor": 2
}
